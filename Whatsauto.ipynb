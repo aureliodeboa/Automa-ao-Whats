{
 "cells": [
  {
   "cell_type": "markdown",
   "metadata": {},
   "source": [
    "Automação de encaminhamento de mensagens no whatsapp usando a funcionalidade nativa do whatsapp de encaminhar mensagem (encaminhar mensagens de 5 em 5)"
   ]
  },
  {
   "cell_type": "code",
   "execution_count": 1,
   "metadata": {},
   "outputs": [
    {
     "name": "stdout",
     "output_type": "stream",
     "text": [
      "Requirement already satisfied: selenium in c:\\users\\aurelio ribeiro\\appdata\\local\\programs\\python\\python310\\lib\\site-packages (4.14.0)"
     ]
    },
    {
     "name": "stderr",
     "output_type": "stream",
     "text": [
      "\n",
      "[notice] A new release of pip available: 22.3.1 -> 23.2.1\n",
      "[notice] To update, run: python.exe -m pip install --upgrade pip\n"
     ]
    },
    {
     "name": "stdout",
     "output_type": "stream",
     "text": [
      "\n",
      "Requirement already satisfied: pyperclip in c:\\users\\aurelio ribeiro\\appdata\\local\\programs\\python\\python310\\lib\\site-packages (1.8.2)\n",
      "Requirement already satisfied: webdriver-manager in c:\\users\\aurelio ribeiro\\appdata\\local\\programs\\python\\python310\\lib\\site-packages (4.0.1)\n",
      "Requirement already satisfied: trio-websocket~=0.9 in c:\\users\\aurelio ribeiro\\appdata\\local\\programs\\python\\python310\\lib\\site-packages (from selenium) (0.11.1)\n",
      "Requirement already satisfied: urllib3[socks]<3,>=1.26 in c:\\users\\aurelio ribeiro\\appdata\\local\\programs\\python\\python310\\lib\\site-packages (from selenium) (2.0.6)\n",
      "Requirement already satisfied: certifi>=2021.10.8 in c:\\users\\aurelio ribeiro\\appdata\\local\\programs\\python\\python310\\lib\\site-packages (from selenium) (2023.7.22)\n",
      "Requirement already satisfied: trio~=0.17 in c:\\users\\aurelio ribeiro\\appdata\\local\\programs\\python\\python310\\lib\\site-packages (from selenium) (0.22.2)\n",
      "Requirement already satisfied: requests in c:\\users\\aurelio ribeiro\\appdata\\local\\programs\\python\\python310\\lib\\site-packages (from webdriver-manager) (2.31.0)\n",
      "Requirement already satisfied: python-dotenv in c:\\users\\aurelio ribeiro\\appdata\\local\\programs\\python\\python310\\lib\\site-packages (from webdriver-manager) (1.0.0)\n",
      "Requirement already satisfied: packaging in c:\\users\\aurelio ribeiro\\appdata\\local\\programs\\python\\python310\\lib\\site-packages (from webdriver-manager) (23.2)\n",
      "Requirement already satisfied: sniffio in c:\\users\\aurelio ribeiro\\appdata\\local\\programs\\python\\python310\\lib\\site-packages (from trio~=0.17->selenium) (1.3.0)\n",
      "Requirement already satisfied: attrs>=20.1.0 in c:\\users\\aurelio ribeiro\\appdata\\local\\programs\\python\\python310\\lib\\site-packages (from trio~=0.17->selenium) (23.1.0)\n",
      "Requirement already satisfied: outcome in c:\\users\\aurelio ribeiro\\appdata\\local\\programs\\python\\python310\\lib\\site-packages (from trio~=0.17->selenium) (1.2.0)\n",
      "Requirement already satisfied: sortedcontainers in c:\\users\\aurelio ribeiro\\appdata\\local\\programs\\python\\python310\\lib\\site-packages (from trio~=0.17->selenium) (2.4.0)\n",
      "Requirement already satisfied: idna in c:\\users\\aurelio ribeiro\\appdata\\local\\programs\\python\\python310\\lib\\site-packages (from trio~=0.17->selenium) (3.4)\n",
      "Requirement already satisfied: cffi>=1.14 in c:\\users\\aurelio ribeiro\\appdata\\local\\programs\\python\\python310\\lib\\site-packages (from trio~=0.17->selenium) (1.16.0)\n",
      "Requirement already satisfied: exceptiongroup>=1.0.0rc9 in c:\\users\\aurelio ribeiro\\appdata\\local\\programs\\python\\python310\\lib\\site-packages (from trio~=0.17->selenium) (1.1.3)\n",
      "Requirement already satisfied: wsproto>=0.14 in c:\\users\\aurelio ribeiro\\appdata\\local\\programs\\python\\python310\\lib\\site-packages (from trio-websocket~=0.9->selenium) (1.2.0)\n",
      "Requirement already satisfied: pysocks!=1.5.7,<2.0,>=1.5.6 in c:\\users\\aurelio ribeiro\\appdata\\local\\programs\\python\\python310\\lib\\site-packages (from urllib3[socks]<3,>=1.26->selenium) (1.7.1)\n",
      "Requirement already satisfied: charset-normalizer<4,>=2 in c:\\users\\aurelio ribeiro\\appdata\\local\\programs\\python\\python310\\lib\\site-packages (from requests->webdriver-manager) (3.3.0)\n",
      "Requirement already satisfied: pycparser in c:\\users\\aurelio ribeiro\\appdata\\local\\programs\\python\\python310\\lib\\site-packages (from cffi>=1.14->trio~=0.17->selenium) (2.21)\n",
      "Requirement already satisfied: h11<1,>=0.9.0 in c:\\users\\aurelio ribeiro\\appdata\\local\\programs\\python\\python310\\lib\\site-packages (from wsproto>=0.14->trio-websocket~=0.9->selenium) (0.14.0)\n"
     ]
    }
   ],
   "source": [
    "!pip install selenium pyperclip webdriver-manager"
   ]
  },
  {
   "cell_type": "markdown",
   "metadata": {},
   "source": [
    "Import Libs\n"
   ]
  },
  {
   "cell_type": "code",
   "execution_count": 2,
   "metadata": {},
   "outputs": [],
   "source": [
    "from selenium import webdriver\n",
    "from selenium.webdriver.chrome.service import Service\n",
    "from webdriver_manager.chrome import ChromeDriverManager\n",
    "\n",
    "\n",
    "\n",
    "service = Service(ChromeDriverManager().install())  # cria o navegador\n",
    "navegador = webdriver.Chrome(service=service)  # abre o navegador\n",
    "navegador.get(\"https://web.whatsapp.com\")  # abre o whatsapp\n",
    " "
   ]
  },
  {
   "cell_type": "markdown",
   "metadata": {},
   "source": [
    "Definindo nossas Variaveis"
   ]
  },
  {
   "cell_type": "code",
   "execution_count": 8,
   "metadata": {},
   "outputs": [],
   "source": [
    "import time\n",
    "from selenium.webdriver.common.keys import Keys  # teclas\n",
    "import pyperclip  # para salvar a mensagem no ctrl +v\n",
    "\n",
    "mensagem = \"\"\" Fala galera!\n",
    "Testando automação whatsapp!\n",
    "\"\"\"\n",
    "lista_contatos = [\"Aureliodeboa\",\"Meu (você)\",  \"Lindinha\", ]\n",
    "\n",
    "# enviar a mensagem para o meu numero para poder depois encaminhar\n",
    "\n",
    "# clicar na lupa\n",
    "navegador.find_element(\n",
    "    'xpath', '//*[@id=\"side\"]/div[1]/div/div[2]/button/div[2]/span').click()  # lupa\n",
    "# escrever \"Meu\"\n",
    "navegador.find_element(\n",
    "    'xpath', '//*[@id=\"side\"]/div[1]/div/div[2]/div[2]/div/div[1]/p').send_keys('Meu (voce)')  # busca\n",
    "# dar Enter\n",
    "navegador.find_element(\n",
    "    'xpath', '//*[@id=\"side\"]/div[1]/div/div[2]/div[2]/div/div[1]/p').send_keys(Keys.ENTER)  # enter\n",
    "\n",
    "# timer para o whatsapp não bloquear\n",
    "time.sleep(1)\n",
    "\n",
    "# escreve a mensagem\n",
    "pyperclip.copy(mensagem)  # mando a mensagem para o ctrl +v\n",
    "navegador.find_element('xpath', '//*[@id=\"main\"]/footer/div[1]/div/span[2]/div/div[2]/div[1]/div/div[1]/p').send_keys(\n",
    "    Keys.CONTROL + \"v\")  # colando mensagem\n",
    "# enter da mensagem\n",
    "navegador.find_element(\n",
    "    'xpath', '//*[@id=\"main\"]/footer/div[1]/div/span[2]/div/div[2]/div[1]/div/div[1]/p').send_keys(Keys.ENTER)\n",
    "# timer para o whatsapp não bloquear\n",
    "time.sleep(2)\n"
   ]
  },
  {
   "cell_type": "markdown",
   "metadata": {},
   "source": [
    "Encaminhar mensagens"
   ]
  },
  {
   "cell_type": "code",
   "execution_count": 5,
   "metadata": {},
   "outputs": [],
   "source": [
    "# ActionChains ferramenta para ter um mouse simulado\n",
    "from selenium.webdriver.common.action_chains import ActionChains\n"
   ]
  },
  {
   "cell_type": "code",
   "execution_count": 10,
   "metadata": {},
   "outputs": [
    {
     "ename": "NameError",
     "evalue": "name 'elemento' is not defined",
     "output_type": "error",
     "traceback": [
      "\u001b[1;31m---------------------------------------------------------------------------\u001b[0m",
      "\u001b[1;31mNameError\u001b[0m                                 Traceback (most recent call last)",
      "\u001b[1;32md:\\Arquivos do antigo computador\\FACULDADE\\CURSO\\Projetos Web\\AutomacaoWhats\\Whatsauto.ipynb Célula 9\u001b[0m line \u001b[0;36m2\n\u001b[0;32m     <a href='vscode-notebook-cell:/d%3A/Arquivos%20do%20antigo%20computador/FACULDADE/CURSO/Projetos%20Web/AutomacaoWhats/Whatsauto.ipynb#X15sZmlsZQ%3D%3D?line=18'>19</a>\u001b[0m     \u001b[39mif\u001b[39;00m mensagem \u001b[39min\u001b[39;00m texto:\n\u001b[0;32m     <a href='vscode-notebook-cell:/d%3A/Arquivos%20do%20antigo%20computador/FACULDADE/CURSO/Projetos%20Web/AutomacaoWhats/Whatsauto.ipynb#X15sZmlsZQ%3D%3D?line=19'>20</a>\u001b[0m         elemento \u001b[39m=\u001b[39m item\n\u001b[1;32m---> <a href='vscode-notebook-cell:/d%3A/Arquivos%20do%20antigo%20computador/FACULDADE/CURSO/Projetos%20Web/AutomacaoWhats/Whatsauto.ipynb#X15sZmlsZQ%3D%3D?line=21'>22</a>\u001b[0m ActionChains(navegador)\u001b[39m.\u001b[39mmove_to_element(elemento)\u001b[39m.\u001b[39mperform()\n\u001b[0;32m     <a href='vscode-notebook-cell:/d%3A/Arquivos%20do%20antigo%20computador/FACULDADE/CURSO/Projetos%20Web/AutomacaoWhats/Whatsauto.ipynb#X15sZmlsZQ%3D%3D?line=22'>23</a>\u001b[0m elemento\u001b[39m.\u001b[39mfind_element(\u001b[39m'\u001b[39m\u001b[39mclass name\u001b[39m\u001b[39m'\u001b[39m, \u001b[39m'\u001b[39m\u001b[39m_3u9t-\u001b[39m\u001b[39m'\u001b[39m)\u001b[39m.\u001b[39mclick()\n\u001b[0;32m     <a href='vscode-notebook-cell:/d%3A/Arquivos%20do%20antigo%20computador/FACULDADE/CURSO/Projetos%20Web/AutomacaoWhats/Whatsauto.ipynb#X15sZmlsZQ%3D%3D?line=23'>24</a>\u001b[0m time\u001b[39m.\u001b[39msleep(\u001b[39m0.5\u001b[39m)\n",
      "\u001b[1;31mNameError\u001b[0m: name 'elemento' is not defined"
     ]
    }
   ],
   "source": [
    "qtde_contatos = len(lista_contatos)\n",
    "\n",
    "if qtde_contatos % 5 == 0:\n",
    "    qtde_blocos = qtde_contatos / 5\n",
    "else:\n",
    "    qtde_blocos = int(qtde_contatos / 5) + 1\n",
    "\n",
    "for i in range(qtde_blocos):\n",
    "    # rodar o codigo de encaminhar\n",
    "    i_inicial = i * 5\n",
    "    i_final = (i + 1) * 5\n",
    "    lista_enviar = lista_contatos[i_inicial:i_final]\n",
    "\n",
    "    # selecionar a mensagem para enviar e abre a caixa de encaminhar\n",
    "    lista_elementos = navegador.find_elements('class name', '_2AOIt') \n",
    "    for item in lista_elementos:\n",
    "        mensagem = mensagem.replace(\"\\n\", \"\")\n",
    "        texto = item.text.replace(\"\\n\", \"\")\n",
    "        if mensagem in texto:\n",
    "            elemento = item\n",
    "        \n",
    "    ActionChains(navegador).move_to_element(elemento).perform()\n",
    "    elemento.find_element('class name', '_3u9t-').click()\n",
    "    time.sleep(0.5)\n",
    "    navegador.find_element('xpath', '//*[@id=\"app\"]/div/span[4]/div/ul/div/li[4]/div').click()\n",
    "    navegador.find_element('xpath', '//*[@id=\"main\"]/span[2]/div/button[4]/span').click()\n",
    "    time.sleep(1)\n",
    "\n",
    "    for nome in lista_enviar:\n",
    "        # selecionar os 5 conttos para enviar\n",
    "        # escrever o nome do contato\n",
    "        navegador.find_element('xpath', '//*[@id=\"app\"]/div/span[2]/div/div/div/div/div/div/div/div[1]/div/div/div[2]/div/div[1]/p').send_keys(nome)\n",
    "        time.sleep(1)\n",
    "        # dar enter\n",
    "        navegador.find_element('xpath', '//*[@id=\"app\"]/div/span[2]/div/div/div/div/div/div/div/div[1]/div/div/div[2]/div/div[1]/p').send_keys(Keys.ENTER)\n",
    "        time.sleep(1)\n",
    "        # apagar o nome do contato\n",
    "        navegador.find_element('xpath', '//*[@id=\"app\"]/div/span[2]/div/div/div/div/div/div/div/div[1]/div/div/div[2]/div/div[1]/p').send_keys(Keys.BACKSPACE)\n",
    "        time.sleep(1)\n",
    "\n",
    "    navegador.find_element('xpath', '//*[@id=\"app\"]/div/span[2]/div/div/div/div/div/div/div/span/div/div/div/span').click()\n",
    "    time.sleep(3)"
   ]
  }
 ],
 "metadata": {
  "kernelspec": {
   "display_name": "Python 3",
   "language": "python",
   "name": "python3"
  },
  "language_info": {
   "codemirror_mode": {
    "name": "ipython",
    "version": 3
   },
   "file_extension": ".py",
   "mimetype": "text/x-python",
   "name": "python",
   "nbconvert_exporter": "python",
   "pygments_lexer": "ipython3",
   "version": "3.10.9"
  }
 },
 "nbformat": 4,
 "nbformat_minor": 2
}
